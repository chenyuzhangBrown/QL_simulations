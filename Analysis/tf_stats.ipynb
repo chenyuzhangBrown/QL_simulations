{
 "cells": [
  {
   "cell_type": "code",
   "execution_count": 1,
   "metadata": {},
   "outputs": [
    {
     "name": "stderr",
     "output_type": "stream",
     "text": [
      "/gpfs/runtime/opt/anaconda/3-5.2.0/lib/python3.6/site-packages/h5py/__init__.py:36: FutureWarning: Conversion of the second argument of issubdtype from `float` to `np.floating` is deprecated. In future, it will be treated as `np.float64 == np.dtype(float).type`.\n",
      "  from ._conv import register_converters as _register_converters\n"
     ]
    }
   ],
   "source": [
    "import numpy as np\n",
    "import h5py\n",
    "import pandas as pd\n",
    "import sys\n",
    "import matplotlib.pyplot as plt\n",
    "from sklearn.decomposition import PCA\n",
    "import matplotlib.colors as mcolors"
   ]
  },
  {
   "cell_type": "code",
   "execution_count": 2,
   "metadata": {},
   "outputs": [],
   "source": [
    "plt.rcParams['font.serif'] = 'Times New Roman'\n",
    "plt.rcParams['font.size'] = 25"
   ]
  },
  {
   "cell_type": "code",
   "execution_count": 3,
   "metadata": {},
   "outputs": [],
   "source": [
    "path_list = [\"/users/czhang54/scratch/tf_analysis/tf_vs_t_ret_70_0_003.csv\",\n",
    "             \"/users/czhang54/scratch/tf_analysis/tf_vs_t_ret_72_0_003.csv\",\n",
    "             \"/users/czhang54/scratch/tf_analysis/tf_vs_t_ret_75_0_003.csv\", \n",
    "             \"/users/czhang54/scratch/tf_analysis/tf_vs_t_ret_79_0_003.csv\",\n",
    "             \"/users/czhang54/scratch/tf_analysis/tf_vs_t_ret_81_0_003.csv\",\n",
    "             \"/users/czhang54/scratch/tf_analysis/tf_vs_t_ret_95_0_003.csv\",\n",
    "             \"/users/czhang54/scratch/tf_analysis/tf_vs_t_ret_120_0_003.csv\"]"
   ]
  },
  {
   "cell_type": "code",
   "execution_count": 4,
   "metadata": {},
   "outputs": [],
   "source": [
    "nu = 0.00020704166\n",
    "ret_list = [70, 72, 75, 79, 81, 95, 120]\n",
    "dpdz_list = [4*(2*nu*i/0.5)**2 for i in ret_list]"
   ]
  },
  {
   "cell_type": "code",
   "execution_count": 5,
   "metadata": {},
   "outputs": [],
   "source": [
    "data_list = [pd.read_csv(path_list[i]) for i in range(len(path_list))]"
   ]
  },
  {
   "cell_type": "code",
   "execution_count": 6,
   "metadata": {},
   "outputs": [],
   "source": [
    "tf_list = np.zeros(len(path_list))\n",
    "error_list = np.zeros(len(path_list))"
   ]
  },
  {
   "cell_type": "code",
   "execution_count": 7,
   "metadata": {},
   "outputs": [
    {
     "name": "stdout",
     "output_type": "stream",
     "text": [
      "[0.00000000e+00 1.79241271e-06 2.61043742e-01 3.09975822e-01\n",
      " 3.53128998e-01 4.20745809e-01 4.78029590e-01] [0.00000000e+00 5.58258360e-06 7.61876301e-02 7.56552755e-02\n",
      " 8.64864203e-02 8.14611248e-02 5.31143726e-02]\n"
     ]
    }
   ],
   "source": [
    "for i in range(len(path_list)):\n",
    "    tf_list[i] = data_list[i]['Turbulence Fraction'].mean()\n",
    "    error_list[i] = data_list[i]['Turbulence Fraction'].std()\n",
    "print(tf_list, error_list)"
   ]
  },
  {
   "cell_type": "code",
   "execution_count": 8,
   "metadata": {},
   "outputs": [],
   "source": [
    "fig = plt.figure(figsize = (8,6))\n",
    "ax = fig.add_subplot(111)\n",
    "x = np.arange(10)\n",
    "\n",
    "ax.errorbar(dpdz_list[2:], tf_list[2:], yerr=error_list[2:], color = 'blue', ecolor = 'blue', ls = '--', marker = 'o', \n",
    "             markersize=8, mfc = 'blue', capsize=10)\n",
    "ax.grid()\n",
    "plt.xlabel('|Pressure Gradient|')\n",
    "plt.ylabel('Turbulence Fraction')\n",
    "#ax.set_yscale('log')\n",
    "#ax.set_xscale('log')\n",
    "plt.savefig(\"/users/czhang54/scratch/tf_analysis/tf_vs_p_0_003.png\",bbox_inches=\"tight\")\n",
    "plt.close()"
   ]
  },
  {
   "cell_type": "markdown",
   "metadata": {},
   "source": [
    "Use linear regression to fit out line"
   ]
  },
  {
   "cell_type": "code",
   "execution_count": 9,
   "metadata": {},
   "outputs": [
    {
     "name": "stdout",
     "output_type": "stream",
     "text": [
      "-440.7715590128493\n",
      "[0.15528881]\n",
      "-0.14847079770607807\n"
     ]
    }
   ],
   "source": [
    "from sklearn.linear_model import LinearRegression\n",
    "x = np.array([dpdz_list[i] - dpdz_list[2] for i in range(3, len(dpdz_list))])\n",
    "fit_x = np.log(x)\n",
    "X = fit_x.reshape((len(x), 1))\n",
    "y = tf_list[3:]\n",
    "fit_y = np.log(y)\n",
    "plt.plot(fit_x,fit_y)\n",
    "reg = LinearRegression().fit(X, fit_y)\n",
    "print(reg.score(X, y))\n",
    "print(reg.coef_)\n",
    "print(reg.intercept_)\n",
    "plt.close()"
   ]
  },
  {
   "cell_type": "code",
   "execution_count": 10,
   "metadata": {},
   "outputs": [],
   "source": [
    "plt.plot(fit_x,)\n",
    "plt.close()"
   ]
  },
  {
   "cell_type": "code",
   "execution_count": 11,
   "metadata": {},
   "outputs": [],
   "source": [
    "fitted_y = np.power(x,reg.coef_) * np.exp(reg.intercept_)"
   ]
  },
  {
   "cell_type": "code",
   "execution_count": 12,
   "metadata": {},
   "outputs": [],
   "source": [
    "re_m = [2908, 3052.395036, 3087.414038, 3519.572654, 4471.554161]\n",
    "re_error = [82, 71, 83, 91, 84]\n",
    "re_error_c = [re_error[i] - re_error[i - 1] for i in range(1, len(re_error))]"
   ]
  },
  {
   "cell_type": "code",
   "execution_count": 13,
   "metadata": {},
   "outputs": [
    {
     "name": "stdout",
     "output_type": "stream",
     "text": [
      "[0.04965441 0.06169671 0.21030696 0.53767337]\n",
      "[0.038368834278009536, 0.04136320982789319, 0.04630327760364371, 0.05210020431852626]\n"
     ]
    }
   ],
   "source": [
    "re_x = np.array([(re_m[i] - re_m[0])/re_m[0] for i in range(1, len(re_m))])\n",
    "re_x_error = [np.sqrt((1/re_m[0])**2*(re_error[i]**2) + (re_m[i]/re_m[0]**2)**2*(re_error[0]**2)) for i in range(1, len(re_error))]\n",
    "print(re_x)\n",
    "print(re_x_error)"
   ]
  },
  {
   "cell_type": "markdown",
   "metadata": {},
   "source": [
    "The DP exponent for 1+1D is 0.276. Plot it against our data."
   ]
  },
  {
   "cell_type": "code",
   "execution_count": 14,
   "metadata": {},
   "outputs": [
    {
     "name": "stdout",
     "output_type": "stream",
     "text": [
      "[-1.17126098 -1.04092186 -0.86572641 -0.73808264]\n"
     ]
    }
   ],
   "source": [
    "dp_x = np.logspace(-1.7,0,10)\n",
    "dp_inter = np.mean(np.log(tf_list[3:])) - 0.276*np.mean(np.log(re_x))\n",
    "dp_y = np.exp(dp_inter)*np.power(dp_x, 0.276)\n",
    "print(np.log(tf_list[3:]))"
   ]
  },
  {
   "cell_type": "code",
   "execution_count": 18,
   "metadata": {},
   "outputs": [
    {
     "data": {
      "image/png": "[encoded data removed]",
      "text/plain": [
       "<Figure size 576x432 with 1 Axes>"
      ]
     },
     "metadata": {},
     "output_type": "display_data"
    }
   ],
   "source": [
    "fig = plt.figure(figsize = (8,6))\n",
    "ax = fig.add_subplot(111)\n",
    "#ax.errorbar(re_x, tf_list[3:], yerr=error_list[3:], xerr = re_x_error, color = 'blue', ecolor = 'blue', ls = '--', marker = 'o', \n",
    "#             markersize=8, mfc = 'blue', capsize=10, label = 'turbulence fraction')\n",
    "ax.errorbar(re_x, tf_list[3:], yerr=error_list[3:], xerr = re_x_error, color = 'red', ls = 'none', ecolor = 'red', marker = 'o', \n",
    "             markersize=8, mfc = 'red', capsize=10, label = 'turbulence fraction')\n",
    "ax.plot(dp_x, dp_y,label = 'DP exponent = 0.276', color = 'blue')\n",
    "#ax.plot(x1, tf_list[3:], '-o', label = 'sub')\n",
    "ax.grid()\n",
    "plt.legend()\n",
    "plt.xlabel(r'$\\frac{r - r_c}{r_c}$')\n",
    "plt.ylabel('Turbulence Fraction')\n",
    "ax.set_yscale('log')\n",
    "ax.set_xscale('log')\n",
    "#plt.xlim(left = 0.001)\n",
    "#plt.show()\n",
    "plt.savefig(\"/users/czhang54/scratch/tf_analysis/tf_vs_rem_log_0_003.png\",bbox_inches=\"tight\")\n",
    "plt.show()\n",
    "plt.close()"
   ]
  },
  {
   "cell_type": "code",
   "execution_count": null,
   "metadata": {},
   "outputs": [],
   "source": []
  },
  {
   "cell_type": "code",
   "execution_count": null,
   "metadata": {},
   "outputs": [],
   "source": []
  }
 ],
 "metadata": {
  "kernelspec": {
   "display_name": "Python 3",
   "language": "python",
   "name": "python3"
  },
  "language_info": {
   "codemirror_mode": {
    "name": "ipython",
    "version": 3
   },
   "file_extension": ".py",
   "mimetype": "text/x-python",
   "name": "python",
   "nbconvert_exporter": "python",
   "pygments_lexer": "ipython3",
   "version": "3.6.5"
  }
 },
 "nbformat": 4,
 "nbformat_minor": 2
}
